{
 "cells": [
  {
   "cell_type": "code",
   "execution_count": 7,
   "metadata": {},
   "outputs": [
    {
     "name": "stdout",
     "output_type": "stream",
     "text": [
      "Enter a number to Find its Factorial 4\n",
      "24\n"
     ]
    }
   ],
   "source": [
    "# 5.1- Factorial Function\n",
    "\n",
    "def factorial(num):\n",
    "    if num == 0:\n",
    "        return 1\n",
    "    else:\n",
    "        return num * factorial(num-1)\n",
    "\n",
    "inp = int(input(\"Enter a number to Find its Factorial \"))\n",
    "result= factorial(inp)\n",
    "print(result)"
   ]
  },
  {
   "cell_type": "code",
   "execution_count": 9,
   "metadata": {},
   "outputs": [
    {
     "name": "stdout",
     "output_type": "stream",
     "text": [
      "Enter a String Consist of capital and lower case letterWaqar Ahmed Dero\n",
      "String Passed to function :  Waqar Ahmed Dero\n",
      "No. of Upper case characters :  3\n",
      "No. of Lower case Characters :  11\n"
     ]
    }
   ],
   "source": [
    "# 5.2 - Number of upper case and lower case letters\n",
    "\n",
    "def letter_chk(string):\n",
    "    dic = {\"upper_case\" : 0,\"lower_case\" : 0,}\n",
    "    \n",
    "    for i in string:\n",
    "        if i.isupper():\n",
    "            dic[\"upper_case\"] += 1\n",
    "        \n",
    "        elif i.islower():\n",
    "            dic[\"lower_case\"] += 1\n",
    "            \n",
    "        else:\n",
    "            pass\n",
    "    print (\"String Passed to function : \", string)\n",
    "    print (\"No. of Upper case characters : \", dic[\"upper_case\"])\n",
    "    print (\"No. of Lower case Characters : \", dic[\"lower_case\"])\n",
    "    \n",
    "    \n",
    "    \n",
    "    \n",
    "inpt = input(\"Enter a String Consist of capital and lower case letter\")    \n",
    "letter_chk(inpt)\n",
    "    \n",
    "    "
   ]
  },
  {
   "cell_type": "code",
   "execution_count": 12,
   "metadata": {},
   "outputs": [
    {
     "data": {
      "text/plain": [
       "[2, 4, 6, 8, 10, 14]"
      ]
     },
     "execution_count": 12,
     "metadata": {},
     "output_type": "execute_result"
    }
   ],
   "source": [
    "# 5.3 - Python function to print the even numbers from a given list\n",
    "\n",
    "def is_even(g_list):\n",
    "    evenlist = []\n",
    "    for i in g_list:\n",
    "        if i % 2 == 0:\n",
    "            evenlist.append(i)\n",
    "    return evenlist\n",
    "        \n",
    "user_list = [1,2,3,4,5,6,7,8,9,10,14]        \n",
    "is_even(user_list)"
   ]
  },
  {
   "cell_type": "code",
   "execution_count": 19,
   "metadata": {},
   "outputs": [
    {
     "name": "stdout",
     "output_type": "stream",
     "text": [
      "True\n"
     ]
    }
   ],
   "source": [
    "# 5.4 plindrome String\n",
    "\n",
    "def is_plindrome(string):\n",
    "    lpost = 0\n",
    "    rpost = len(string)-1\n",
    "    \n",
    "    while rpost >= lpost :\n",
    "        if not string[lpost] == string[rpost]:\n",
    "            return False\n",
    "        lpost +=1\n",
    "        rpost -=1\n",
    "        \n",
    "    return True\n",
    "\n",
    "print(is_plindrome('madam'))"
   ]
  },
  {
   "cell_type": "code",
   "execution_count": 22,
   "metadata": {},
   "outputs": [
    {
     "name": "stdout",
     "output_type": "stream",
     "text": [
      "True\n"
     ]
    }
   ],
   "source": [
    "# 5.6 prime number\n",
    "\n",
    "def is_prime(num):\n",
    "    if (num==1):\n",
    "        return False\n",
    "    elif (num==2):\n",
    "        return True;\n",
    "    else:\n",
    "        for i in range(2,num):\n",
    "            if(num % i==0):\n",
    "                return False\n",
    "        return True             \n",
    "print(is_prime(2))\n",
    "\n"
   ]
  },
  {
   "cell_type": "code",
   "execution_count": 33,
   "metadata": {},
   "outputs": [
    {
     "name": "stdout",
     "output_type": "stream",
     "text": [
      "You had bought : oil\n",
      "\n",
      "You had bought : sugar\n",
      "\n",
      "You had bought : soap\n",
      "\n",
      "You had bought : tea\n",
      "\n"
     ]
    }
   ],
   "source": [
    "# 5.6 function which accepts the multiple arguments of user shopping list and print all the items which user bought from market\n",
    "\n",
    "def items_bought(*items):\n",
    "    \n",
    "    num=len(items)\n",
    "    for i in range(0,num):\n",
    "        print(\"You had bought : \" + items[i]  + \"\\n\")\n",
    "       \n",
    "    \n",
    "items_bought('oil','sugar','soap','tea')    \n",
    "\n",
    "\n",
    "\n"
   ]
  },
  {
   "cell_type": "code",
   "execution_count": null,
   "metadata": {},
   "outputs": [],
   "source": []
  }
 ],
 "metadata": {
  "kernelspec": {
   "display_name": "Python 3",
   "language": "python",
   "name": "python3"
  },
  "language_info": {
   "codemirror_mode": {
    "name": "ipython",
    "version": 3
   },
   "file_extension": ".py",
   "mimetype": "text/x-python",
   "name": "python",
   "nbconvert_exporter": "python",
   "pygments_lexer": "ipython3",
   "version": "3.7.4"
  }
 },
 "nbformat": 4,
 "nbformat_minor": 2
}
