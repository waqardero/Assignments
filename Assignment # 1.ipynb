{
 "cells": [
  {
   "cell_type": "code",
   "execution_count": 9,
   "metadata": {},
   "outputs": [
    {
     "name": "stdout",
     "output_type": "stream",
     "text": [
      "Twinkle, twinkle, little star,\n",
      "\tHow I wonder what you are!\n",
      "\t\tUp above the world so high,\n",
      "\t\tLike  a diamond in the sky.\n",
      "Twinkle, twinkle, little star,\n",
      "\tHow I wonder what you are\n",
      "\n",
      "Twinkle, twinkle, little star,\n",
      "      How I wonder what you are!\n",
      "            up above the world so high,\n",
      "            Like  a diamond in the sky.\n",
      "Twinkle, twinkle, little star,\n",
      "      How I wonder what you are\n"
     ]
    }
   ],
   "source": [
    "# Assignement no 1.1: \n",
    "# we can do it in two ways 1st one is like below in which we can do it in onlt in one line of print fuction.\n",
    "\n",
    "print(\"Twinkle, twinkle, little star,\\n\\tHow I wonder what you are!\\n\\t\\tUp above the world so high,\\n\\t\\tLike  a diamond in the sky.\\nTwinkle, twinkle, little star,\\n\\tHow I wonder what you are\")\n",
    "\n",
    "#2nd way to do the assignment is that in which we can print the output in multiple line which is time cosuming for interpreter.\n",
    "print() # it is only for new line\n",
    "print(\"Twinkle, twinkle, little star,\")\n",
    "print(\"      How I wonder what you are!\")\n",
    "print(\"            up above the world so high,\")\n",
    "print(\"            Like  a diamond in the sky.\")\n",
    "print(\"Twinkle, twinkle, little star,\")\n",
    "print(\"      How I wonder what you are\"\n",
    "      "
   ]
  },
  {
   "cell_type": "code",
   "execution_count": 10,
   "metadata": {},
   "outputs": [
    {
     "name": "stdout",
     "output_type": "stream",
     "text": [
      "Current Python version Which we are using is : \n",
      "3.7.4 (default, Aug  9 2019, 18:34:13) [MSC v.1915 64 bit (AMD64)]\n"
     ]
    }
   ],
   "source": [
    "# Assignement no 1.2:\n",
    "import sys\n",
    "print(\"Current Python version Which we are using is : \")\n",
    "print (sys.version)"
   ]
  },
  {
   "cell_type": "code",
   "execution_count": 11,
   "metadata": {},
   "outputs": [
    {
     "name": "stdout",
     "output_type": "stream",
     "text": [
      "Current date and time : \n",
      "2019-11-03 14:27:34\n"
     ]
    }
   ],
   "source": [
    "# Assignement no 1.3:\n",
    "import datetime\n",
    "now = datetime.datetime.now()\n",
    "print (\"Current date and time : \")\n",
    "print (now.strftime(\"%Y-%m-%d %H:%M:%S\"))"
   ]
  },
  {
   "cell_type": "code",
   "execution_count": 16,
   "metadata": {},
   "outputs": [
    {
     "name": "stdout",
     "output_type": "stream",
     "text": [
      "Input the radius of the circle : 4\n",
      "The area of the circle with radius :4.0 is: 50.24\n"
     ]
    }
   ],
   "source": [
    "# Assignement no 1.4:\n",
    "usr_difined_pi_value = 3.14     # Here i didnot import the library of math and i directly assigned the value of pi which is constant \n",
    "r = float(input (\"Input the radius of the circle : \"))\n",
    "print (\"The area of the circle with radius :\" + str(r) + \" is: \" + str(usr_difined_pi_value  * r**2))\n"
   ]
  },
  {
   "cell_type": "code",
   "execution_count": 18,
   "metadata": {},
   "outputs": [
    {
     "name": "stdout",
     "output_type": "stream",
     "text": [
      " Plz input your First Name : ali \n",
      " Plz input your Last Name : ahmed\n",
      "Hello  ahmed ali \n"
     ]
    }
   ],
   "source": [
    "# Assignement no 1.5:\n",
    "f_name = input(\" Plz input your First Name : \")\n",
    "l_name = input(\" Plz input your Last Name : \")\n",
    "sep = \" \"\n",
    "print (\"Hello  \" + l_name + sep + f_name)"
   ]
  },
  {
   "cell_type": "code",
   "execution_count": 26,
   "metadata": {},
   "outputs": [
    {
     "name": "stdout",
     "output_type": "stream",
     "text": [
      "Enter a 1st Value :  9\n",
      "Enter a 2nd Value :  9\n",
      "The Addition of 9 + 9 is : 18\n"
     ]
    }
   ],
   "source": [
    "# Assignement no 1.6:\n",
    "first_value = int(input(\"Enter a 1st Value :  \"))\n",
    "second_value = int(input(\"Enter a 2nd Value :  \"))\n",
    "addition = first_value + second_value\n",
    "print(\"The Addition of \" + str(first_value) + \" + \" + str(second_value) + \" is : \" +  str(addition)   )\n"
   ]
  },
  {
   "cell_type": "code",
   "execution_count": null,
   "metadata": {},
   "outputs": [],
   "source": []
  }
 ],
 "metadata": {
  "kernelspec": {
   "display_name": "Python 3",
   "language": "python",
   "name": "python3"
  },
  "language_info": {
   "codemirror_mode": {
    "name": "ipython",
    "version": 3
   },
   "file_extension": ".py",
   "mimetype": "text/x-python",
   "name": "python",
   "nbconvert_exporter": "python",
   "pygments_lexer": "ipython3",
   "version": "3.7.4"
  }
 },
 "nbformat": 4,
 "nbformat_minor": 2
}
