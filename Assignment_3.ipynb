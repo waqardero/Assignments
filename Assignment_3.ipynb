{
 "cells": [
  {
   "cell_type": "code",
   "execution_count": 8,
   "metadata": {},
   "outputs": [
    {
     "name": "stdout",
     "output_type": "stream",
     "text": [
      "Enter a First Value5\n",
      "Enter a Second Value5\n",
      "Enter Opertor Plz...+\n",
      "10\n"
     ]
    }
   ],
   "source": [
    "# 3.1 Make an Calculator\n",
    "\n",
    "first_value = int(input(\"Enter a First Value\"))\n",
    "second_val = int(input(\"Enter a Second Value\"))\n",
    "opertor = input(\"Enter Opertor Plz...\")\n",
    "\n",
    "if opertor == \"+\":\n",
    "    result = first_value + second_val\n",
    "    print(result)           \n",
    "elif opertor == \"-\":\n",
    "    result = first_value - second_val\n",
    "    print(result)\n",
    "elif opertor == \"*\":\n",
    "    result = first_value * second_val\n",
    "    print(result)\n",
    "elif opertor == \"/\":\n",
    "    result = first_value / second_val\n",
    "    print(result)\n",
    "elif opertor == \"**\":\n",
    "    result = first_value ** second_val\n",
    "    print(result)\n",
    "else:\n",
    "    print(\"wrong\")\n",
    "\n"
   ]
  },
  {
   "cell_type": "code",
   "execution_count": 11,
   "metadata": {},
   "outputs": [
    {
     "name": "stdout",
     "output_type": "stream",
     "text": [
      "12\n",
      "33\n",
      "23\n",
      "34\n",
      "44\n"
     ]
    }
   ],
   "source": [
    "#3.2 Numeric Value in list\n",
    "\n",
    "a = [12,33,23,'hi',34,44,'karachi']\n",
    "for i in  a:\n",
    "    if i in range(-9999,9999):\n",
    "        print(i)"
   ]
  },
  {
   "cell_type": "code",
   "execution_count": 18,
   "metadata": {},
   "outputs": [
    {
     "name": "stdout",
     "output_type": "stream",
     "text": [
      "{'city': 'Jamshoro', 'Provience': 'Sindh', 'country': 'Pakistan'}\n"
     ]
    }
   ],
   "source": [
    "# add a key to ditionory\n",
    "\n",
    "dic = {\"city\" : \"Jamshoro\", \"Provience\" : \"Sindh\" }\n",
    "\n",
    "dic['country'] = \"Pakistan\"\n",
    "print(dic)"
   ]
  },
  {
   "cell_type": "code",
   "execution_count": 24,
   "metadata": {},
   "outputs": [
    {
     "name": "stdout",
     "output_type": "stream",
     "text": [
      "Addition of all numeric values in list is :  200\n"
     ]
    }
   ],
   "source": [
    "#3.4 Addition of   Numeric Value in list\n",
    "\n",
    "a = {12,33,23,'hi',34,44,'karachi',54}\n",
    "\n",
    "sum = 0\n",
    "for i in  a:\n",
    "    if i in range(-9999,9999):\n",
    "        sum += i\n",
    "print(\"Addition of all numeric values in list is : \", sum)        "
   ]
  },
  {
   "cell_type": "code",
   "execution_count": 37,
   "metadata": {},
   "outputs": [
    {
     "name": "stdout",
     "output_type": "stream",
     "text": [
      "11  \n",
      "11  \n",
      "Repeated Values in list  \n",
      "\n",
      "33  \n",
      "33  \n",
      "33  \n",
      "Repeated Values in list  \n",
      "\n",
      "33  \n",
      "33  \n",
      "33  \n",
      "Repeated Values in list  \n",
      "\n",
      "45  \n",
      "Repeated Values in list  \n",
      "\n",
      "56  \n",
      "Repeated Values in list  \n",
      "\n",
      "11  \n",
      "11  \n",
      "Repeated Values in list  \n",
      "\n",
      "33  \n",
      "33  \n",
      "33  \n",
      "Repeated Values in list  \n",
      "\n"
     ]
    }
   ],
   "source": [
    "#3.5 duplicate Values in list\n",
    "\n",
    "list_1 = [11,33,33,45,56,11,33]\n",
    "dup = []\n",
    "for j in list_1 :   \n",
    "    for k in list_1:\n",
    "    \n",
    "        if k == j:\n",
    "            print(j,\" \")\n",
    "    print(\"Repeated Values in list  \\n\")       \n",
    "            \n"
   ]
  },
  {
   "cell_type": "code",
   "execution_count": 43,
   "metadata": {},
   "outputs": [
    {
     "name": "stdout",
     "output_type": "stream",
     "text": [
      "Enter a key to insert in dictionrycity\n",
      "{'name': 'Waqar', 'last_name': 'Dero', 'city': 'Jamshoro'}\n",
      "Sorry given key is already used!\n",
      "Sorry given key is already used!\n",
      "You can add it\n"
     ]
    }
   ],
   "source": [
    "#3.6 check if given key is already exist in dictionory\n",
    "\n",
    "b = { \"name\" : \"Waqar\", \"last_name\" : \"Dero\" , \"city\" : \"Jamshoro\" }\n",
    "toadd = input(\"Enter a key to insert in dictionry\")\n",
    "print(b)\n",
    "for l in b.keys():\n",
    "    if l == toadd:\n",
    "        print(\"Sorry given key is already used!\")\n",
    "    else :\n",
    "        print(\"You can add it\")\n",
    "        "
   ]
  },
  {
   "cell_type": "code",
   "execution_count": null,
   "metadata": {},
   "outputs": [],
   "source": []
  }
 ],
 "metadata": {
  "kernelspec": {
   "display_name": "Python 3",
   "language": "python",
   "name": "python3"
  },
  "language_info": {
   "codemirror_mode": {
    "name": "ipython",
    "version": 3
   },
   "file_extension": ".py",
   "mimetype": "text/x-python",
   "name": "python",
   "nbconvert_exporter": "python",
   "pygments_lexer": "ipython3",
   "version": "3.7.4"
  }
 },
 "nbformat": 4,
 "nbformat_minor": 2
}
