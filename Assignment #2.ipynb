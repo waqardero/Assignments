{
 "cells": [
  {
   "cell_type": "code",
   "execution_count": 6,
   "metadata": {},
   "outputs": [
    {
     "name": "stdout",
     "output_type": "stream",
     "text": [
      "Enter english Marks plz = 25\n",
      "Enter Mathmatics Marks plz = 55\n",
      "Enter Biology Marks plz = 85\n",
      "Enter Chemistry Marks plz = 25\n",
      "Enter Computer Marks plz = 25\n",
      "Your percentage is  43.0\n",
      "Your Grade  is D \n"
     ]
    }
   ],
   "source": [
    "english = int(input(\"Enter english Marks plz = \"))\n",
    "math    = int(input(\"Enter Mathmatics Marks plz = \"))\n",
    "bio     = int(input(\"Enter Biology Marks plz = \"))\n",
    "chem    = int(input(\"Enter Chemistry Marks plz = \"))\n",
    "comp    = int(input(\"Enter Computer Marks plz = \"))\n",
    "obt_marks= (english + math + chem + bio + comp)\n",
    "total_marks = 500\n",
    "per = (obt_marks / total_marks)*100\n",
    "print( \"Your percentage is \",per)\n",
    "if per >= 80 and per <= 100 :\n",
    " print(\"Your Grade  is A+ \")\n",
    "elif per >= 70 and per <80 :\n",
    " print(\"Your Grade  is A \")\n",
    "elif per >= 60 and per < 70 :\n",
    " print(\"Your Grade  is B \")\n",
    "elif per >= 50 and per < 60 :\n",
    " print(\"Your Grade  is C \")\n",
    "elif per >= 40 and per < 50 :\n",
    " print(\"Your Grade  is D \")\n",
    "elif per >=33 and per < 40 :\n",
    " print(\"Your Grade  is E \")\n",
    "else :\n",
    " print(\"Sorry You are Fail \")        \n"
   ]
  },
  {
   "cell_type": "code",
   "execution_count": 10,
   "metadata": {},
   "outputs": [
    {
     "name": "stdout",
     "output_type": "stream",
     "text": [
      "Enter a Number  plz = 10\n",
      "Given number is Even\n"
     ]
    }
   ],
   "source": [
    "num = int(input(\"Enter a Number  plz = \"))\n",
    "if num % 2 == 1 :\n",
    " print(\"Given number is Odd\")\n",
    "else :\n",
    "    print(\"Given number is Even\")\n"
   ]
  },
  {
   "cell_type": "code",
   "execution_count": 21,
   "metadata": {},
   "outputs": [
    {
     "name": "stdout",
     "output_type": "stream",
     "text": [
      "6\n"
     ]
    }
   ],
   "source": [
    "cities = [\"Karachi\", \"Hyderabad\", \"Jamshoro\", \"Kotri\", \"Sukkur\",\"Dadu\" ]\n",
    "print(len(cities))"
   ]
  },
  {
   "cell_type": "code",
   "execution_count": 30,
   "metadata": {},
   "outputs": [
    {
     "data": {
      "text/plain": [
       "250"
      ]
     },
     "execution_count": 30,
     "metadata": {},
     "output_type": "execute_result"
    }
   ],
   "source": [
    "values = [64, 45 , 34, 62, 31, 14]\n",
    "sum(values)"
   ]
  },
  {
   "cell_type": "code",
   "execution_count": 2,
   "metadata": {},
   "outputs": [
    {
     "name": "stdout",
     "output_type": "stream",
     "text": [
      "45\n"
     ]
    }
   ],
   "source": [
    "a = [1, 1, 2, 3, 33, 8, 13, 21, 34,45]\n",
    "largest_num = 0\n",
    "if a[0] >= a[1] :\n",
    " largest_num = a[0]\n",
    "elif a[0] <= a[1] :\n",
    " largest_num = a[1]\n",
    "if a[1] >= a[2] :\n",
    " largest_num = a[1]\n",
    "elif a[1] <= a[2] :\n",
    " largest_num = a[2]\n",
    "if a[2] >= a[3] :\n",
    " largest_num = a[2]\n",
    "elif a[2] <= a[3] :\n",
    " largest_num = a[3]\n",
    "if a[3] >= a[4] :\n",
    " largest_num = a[3]\n",
    "elif a[3] <= a[4] :\n",
    " largest_num = a[4]\n",
    "if a[4] >= a[5] :\n",
    " largest_num = a[4]\n",
    "elif a[4] <= a[5] :\n",
    " largest_num = a[5]\n",
    "if a[5] >= a[6] :\n",
    " largest_num = a[5]\n",
    "elif a[5] <= a[6] :\n",
    " largest_num = a[6]\n",
    "if a[6] >= a[7] :\n",
    " largest_num = a[6]\n",
    "elif a[6] <= a[7] :\n",
    " largest_num = a[7]\n",
    "if a[7] >= a[8] :\n",
    " largest_num = a[7]\n",
    "elif a[7] <= a[8] :\n",
    " largest_num = a[8]\n",
    "if a[8] >= a[9] :\n",
    " largest_num = a[8]\n",
    "elif a[8] <= a[9] :\n",
    " largest_num = a[9]\n",
    "\n",
    "print(largest_num) "
   ]
  },
  {
   "cell_type": "code",
   "execution_count": 2,
   "metadata": {},
   "outputs": [
    {
     "name": "stdout",
     "output_type": "stream",
     "text": [
      "[1, 1, 2, 3, 5]\n"
     ]
    }
   ],
   "source": [
    "a = [1, 1, 2, 3, 5, 8, 13, 21, 34, 55, 89]\n",
    "b = []\n",
    "if a[0] <= 5 :\n",
    " b.append(a[0])\n",
    "if a[1] <=5 :\n",
    " b.append(a[1])\n",
    "if a[2] <=5 :\n",
    " b.append(a[2])\n",
    "if a[3] <=5 :\n",
    " b.append(a[3])\n",
    "if a[4] <=5 :\n",
    " b.append(a[4])\n",
    "if a[5] <=5 :\n",
    " b.append(a[5])\n",
    "if a[6] <=5 :\n",
    " b.append(a[6])\n",
    "if a[7] <=5 :\n",
    " b.append(a[7])\n",
    "if a[8] <=5 :\n",
    " b.append(a[8])\n",
    "if a[9] <=5 :\n",
    " b.append(a[9])\n",
    "if a[10] <=5 :\n",
    " b.append(a[10])\n",
    "\n",
    "print(b)"
   ]
  }
 ],
 "metadata": {
  "kernelspec": {
   "display_name": "Python 3",
   "language": "python",
   "name": "python3"
  },
  "language_info": {
   "codemirror_mode": {
    "name": "ipython",
    "version": 3
   },
   "file_extension": ".py",
   "mimetype": "text/x-python",
   "name": "python",
   "nbconvert_exporter": "python",
   "pygments_lexer": "ipython3",
   "version": "3.7.4"
  }
 },
 "nbformat": 4,
 "nbformat_minor": 2
}
